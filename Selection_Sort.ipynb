{
 "cells": [
  {
   "attachments": {},
   "cell_type": "markdown",
   "metadata": {},
   "source": [
    "# Selection Sort"
   ]
  },
  {
   "attachments": {},
   "cell_type": "markdown",
   "metadata": {},
   "source": [
    "-   Selection sort is a simple and efficient sorting algorithm that works by repeatedly selecting the smallest (or largest) element from the unsorted portion of the list and moving it to the sorted portion of the list. \n",
    "-   The algorithm repeatedly selects the smallest (or largest) element from the unsorted portion of the list and swaps it with the first element of the unsorted part. This process is repeated for the remaining unsorted portion until the entire list is sorted."
   ]
  },
  {
   "cell_type": "code",
   "execution_count": 4,
   "metadata": {},
   "outputs": [
    {
     "name": "stdout",
     "output_type": "stream",
     "text": [
      "Sorted Array : [12, 21, 43, 53, 64, 77, 90]\n"
     ]
    }
   ],
   "source": [
    "# Example\n",
    "\n",
    "array = [21,43,53,12,77,90,64]\n",
    "\n",
    "# Traverse through all elements of array\n",
    "\n",
    "for i in range(len(array)):\n",
    "    minimum_index = i  # consider i th element as minimum index\n",
    "    #compare the min with remaining elements if found assign as minimum index\n",
    "    for j in range(i+1, len(array)):\n",
    "        if array[minimum_index] > array[j]:\n",
    "            minimum_index = j\n",
    "    # Swap the found minimum element with\n",
    "    # the first element       \n",
    "    array[i], array[minimum_index] = array[minimum_index], array[i]\n",
    "\n",
    "print(\"Sorted Array :\", array)"
   ]
  },
  {
   "attachments": {},
   "cell_type": "markdown",
   "metadata": {},
   "source": [
    "## Complexity \n",
    "-   >   Time Complexity: O(N2).\n",
    "-   >   Auxiliary Space: O(1)"
   ]
  },
  {
   "attachments": {},
   "cell_type": "markdown",
   "metadata": {},
   "source": [
    "## Advantages of Selection Sort Algorithm\n",
    "-   Simple and easy to understand.   \n",
    "-   Works well with small datasets."
   ]
  },
  {
   "attachments": {},
   "cell_type": "markdown",
   "metadata": {},
   "source": [
    "##  Disadvantages of the Selection Sort Algorithm\n",
    "-   Selection sort has a time complexity of O(n^2) in the worst and average case.\n",
    "-   Does not work well on large datasets.\n",
    "-   Does not preserve the relative order of items with equal keys which means it is not stable."
   ]
  }
 ],
 "metadata": {
  "kernelspec": {
   "display_name": "pythonenv",
   "language": "python",
   "name": "python3"
  },
  "language_info": {
   "codemirror_mode": {
    "name": "ipython",
    "version": 3
   },
   "file_extension": ".py",
   "mimetype": "text/x-python",
   "name": "python",
   "nbconvert_exporter": "python",
   "pygments_lexer": "ipython3",
   "version": "3.11.2"
  },
  "orig_nbformat": 4
 },
 "nbformat": 4,
 "nbformat_minor": 2
}
